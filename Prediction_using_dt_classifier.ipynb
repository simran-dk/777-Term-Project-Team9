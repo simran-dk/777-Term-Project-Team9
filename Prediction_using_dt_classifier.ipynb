{
  "nbformat": 4,
  "nbformat_minor": 0,
  "metadata": {
    "colab": {
      "provenance": [],
      "authorship_tag": "ABX9TyPnUi7p97x/R3pyu8K/2Nz6",
      "include_colab_link": true
    },
    "kernelspec": {
      "name": "python3",
      "display_name": "Python 3"
    },
    "language_info": {
      "name": "python"
    }
  },
  "cells": [
    {
      "cell_type": "markdown",
      "metadata": {
        "id": "view-in-github",
        "colab_type": "text"
      },
      "source": [
        "<a href=\"https://colab.research.google.com/github/simran-dk/777-Term-Project-Team9/blob/main/Prediction_using_dt_classifier.ipynb\" target=\"_parent\"><img src=\"https://colab.research.google.com/assets/colab-badge.svg\" alt=\"Open In Colab\"/></a>"
      ]
    },
    {
      "cell_type": "code",
      "source": [
        "!pip install pyspark"
      ],
      "metadata": {
        "id": "HlxiVW3GWvcS",
        "colab": {
          "base_uri": "https://localhost:8080/"
        },
        "outputId": "582ddef1-9dc6-4e96-ec1d-eaa21733f050"
      },
      "execution_count": 1,
      "outputs": [
        {
          "output_type": "stream",
          "name": "stdout",
          "text": [
            "Collecting pyspark\n",
            "  Downloading pyspark-3.5.1.tar.gz (317.0 MB)\n",
            "\u001b[2K     \u001b[90m━━━━━━━━━━━━━━━━━━━━━━━━━━━━━━━━━━━━━━━━\u001b[0m \u001b[32m317.0/317.0 MB\u001b[0m \u001b[31m2.3 MB/s\u001b[0m eta \u001b[36m0:00:00\u001b[0m\n",
            "\u001b[?25h  Preparing metadata (setup.py) ... \u001b[?25l\u001b[?25hdone\n",
            "Requirement already satisfied: py4j==0.10.9.7 in /usr/local/lib/python3.10/dist-packages (from pyspark) (0.10.9.7)\n",
            "Building wheels for collected packages: pyspark\n",
            "  Building wheel for pyspark (setup.py) ... \u001b[?25l\u001b[?25hdone\n",
            "  Created wheel for pyspark: filename=pyspark-3.5.1-py2.py3-none-any.whl size=317488491 sha256=fb59b76d13590b3520f3f3961e94b5d22fdb9b1693aadb3acb160e919cf857ff\n",
            "  Stored in directory: /root/.cache/pip/wheels/80/1d/60/2c256ed38dddce2fdd93be545214a63e02fbd8d74fb0b7f3a6\n",
            "Successfully built pyspark\n",
            "Installing collected packages: pyspark\n",
            "Successfully installed pyspark-3.5.1\n"
          ]
        }
      ]
    },
    {
      "cell_type": "code",
      "source": [
        "# Mount data from drive\n",
        "from google.colab import drive\n",
        "drive.mount('/content/drive')\n"
      ],
      "metadata": {
        "colab": {
          "base_uri": "https://localhost:8080/"
        },
        "id": "SmG0LV6HhdXb",
        "outputId": "0fdea923-4e88-47ca-f389-d948c253d110"
      },
      "execution_count": 2,
      "outputs": [
        {
          "output_type": "stream",
          "name": "stdout",
          "text": [
            "Mounted at /content/drive\n"
          ]
        }
      ]
    },
    {
      "cell_type": "code",
      "source": [
        "from pyspark.sql import SparkSession\n",
        "from pyspark.sql.functions import col, explode, expr, when, udf, explode_outer, collect_list, reverse\n",
        "from pyspark.sql.types import IntegerType, StringType, StructType, StructField, ArrayType, DoubleType\n",
        "from datetime import datetime\n",
        "\n",
        "# Initialize SparkSession\n",
        "spark = SparkSession.builder \\\n",
        "    .appName(\"Process JSON Files\") \\\n",
        "    .getOrCreate()\n",
        "\n",
        "# Read all JSON files from a directory\n",
        "json_directory_path = \"/content/drive/My Drive/raw_data\"\n",
        "df = spark.read.option(\"multiline\", \"true\").json(json_directory_path)\n",
        "\n",
        "def clean_major(degree_list):\n",
        "    if not degree_list:\n",
        "        return None\n",
        "    major = degree_list.pop(-1)\n",
        "    if any(char.isnumeric() for char in major):\n",
        "        return None\n",
        "    return major\n",
        "\n",
        "def convert_to_std_date(date_str):\n",
        "    if date_str is None:\n",
        "        return None\n",
        "\n",
        "    try:\n",
        "        date_obj = datetime.strptime(date_str, \"%b %Y\")\n",
        "    except ValueError:\n",
        "        try:\n",
        "            # Handle the case where only the year is provided\n",
        "            date_obj = datetime.strptime(date_str, \"%Y\")\n",
        "        except ValueError:\n",
        "            return None\n",
        "\n",
        "    standard_date = date_obj.strftime(\"%Y-%m-%d\")\n",
        "    return standard_date\n",
        "\n",
        "\n",
        "def convert_to_number(s):\n",
        "    if s is None or s != s:  # Check for None or NaN (NaN != NaN)\n",
        "        return 0\n",
        "    try:\n",
        "        s = s.strip().replace(',', '')\n",
        "        if 'K' in s:\n",
        "            s = s.replace('K', '')\n",
        "            return float(float(s) * 1000)\n",
        "        elif '+' in s:\n",
        "            s = s.replace('+', '')\n",
        "            return float(s)\n",
        "    except ValueError:\n",
        "        return 0\n",
        "    return float(s)\n",
        "\n",
        "\n",
        "def clean_degree_level(degree: str) -> str:\n",
        "    if not degree:\n",
        "        return None\n",
        "    degree = degree.strip().lower()\n",
        "    if any([d in degree for d in [\"master of science\", \"master\", \"ms\", \"m.s\", \"m.a.\", \"ma\"]]):\n",
        "        return \"master\"\n",
        "    elif any([d in degree for d in ['doctor', 'phd']]):\n",
        "        return \"PhD\"\n",
        "    elif any([d in degree for d in ['bs', 'b.s', 'bachelor', 'b.a', 'ba']]):\n",
        "        return \"bachelor\"\n",
        "    elif any([d in degree for d in [\"associate's\", \"associate\"]]):\n",
        "      return \"associate\"\n",
        "    return degree\n",
        "\n",
        "def clean_job_level(position) -> str:\n",
        "    if not position:\n",
        "        return None\n",
        "    job_title = position.job_title.strip().lower()\n",
        "    if \"intern\" in job_title:\n",
        "        return 'intern'\n",
        "    elif any([t in job_title for t in [\"student\"]]):\n",
        "        return \"student\"\n",
        "    elif job_title == 'ta' or any([t in job_title for t in [\"teacher's assistant\", \"course assistant\",\n",
        "                                                            'teacher assistant', \"teaching assistant\",\n",
        "                                                            'teachers assistant', \"learning assistant\"]]):\n",
        "        return \"TA\"\n",
        "    elif any([t in job_title for t in [\"research assistant\"]]):\n",
        "        return \"research assistant\"\n",
        "    elif any([t in job_title for t in [\"jr.\", \"junior\", 'entry', 'associate']]):\n",
        "        return \"entry level\"\n",
        "    elif any([t in job_title for t in [\"senior\", 'sr.']]):\n",
        "        return \"senior\"\n",
        "    elif any([t in job_title for t in [\"director\", 'vp', 'vice president']]):\n",
        "        return \"director/vp\"\n",
        "    elif any([t in job_title for t in [\"tutor\"]]):\n",
        "        return \"tutor\"\n",
        "    elif any([t in job_title for t in [\"consultant\", \"contractor\"]]):\n",
        "        return \"consultant\"\n",
        "    elif any([t in job_title for t in [\"co-founder\", 'founder', 'ceo', 'president']]):\n",
        "        return \"ceo/founder/president\"\n",
        "    return f\"not_classified\"\n",
        "\n",
        "def get_position_levels_list(experience_list):\n",
        "    if not experience_list:\n",
        "        return None\n",
        "    positions = []\n",
        "    for i, experience in enumerate(experience_list):\n",
        "        if not experience:\n",
        "            continue\n",
        "        for position in experience.positions:\n",
        "            job_level = clean_job_level(position)\n",
        "            positions.append(job_level)\n",
        "    return positions\n",
        "\n",
        "clean_major_udf = udf(clean_major,StringType())\n",
        "clean_degree_level_udf = udf(clean_degree_level, StringType())\n",
        "convert_to_std_date_udf = udf(convert_to_std_date, StringType())\n",
        "convert_to_number_udf = udf(convert_to_number, DoubleType())\n",
        "get_position_levels_list_udf = udf(get_position_levels_list, ArrayType(StringType()))\n",
        "\n",
        "# Explode education degree array to separate rows for each degree\n",
        "df_degree_info = df.withColumn(\"degree_info\", explode_outer(df.education.degree))\n",
        "\n",
        "# Extract majors and degree levels\n",
        "df_majors = df_degree_info \\\n",
        "    .withColumn(\"degree_name\", col(\"degree_info\").getItem(0)[0]) \\\n",
        "    .withColumn(\"major\", col(\"degree_info\").getItem(0)[1]) \\\n",
        "    .groupBy(\"id\") \\\n",
        "    .agg(collect_list(\"major\").alias(\"majors\"), collect_list(\"degree_name\").alias(\"degree_levels\"))\n",
        "\n",
        "# Explode experiences array to separate rows for each job position\n",
        "df_positions = df.withColumn(\"experience_info\", explode_outer(col(\"experiences\"))) \\\n",
        "         .withColumn(\"positions\", explode_outer(col(\"experience_info.positions\"))) \\\n",
        "         .withColumn(\"job_title\", get_position_levels_list_udf(col(\"positions.job_title\"))) \\\n",
        "         .withColumn(\"company_name\", col(\"experience_info.company_name\")) \\\n",
        "         .groupBy(\"id\") \\\n",
        "         .agg(collect_list(\"job_title\").alias(\"positions\"), collect_list(\"company_name\").alias(\"companies\"))\n",
        "\n",
        "# Extract activity followers and connections\n",
        "df_activities = df.withColumn(\"followers\", convert_to_number_udf(col(\"activity.followers\"))) \\\n",
        "                   .withColumn(\"connections\", convert_to_number_udf(col(\"activity.connections\"))) \\\n",
        "                   .select(\"id\", \"followers\", \"connections\")\n",
        "\n",
        "df_position = df.withColumn(\"position_levels\", get_position_levels_list_udf(df.experiences))\\\n",
        "                .select(\"id\", \"position_levels\")\n",
        "\n",
        "# Join the dataframes to get the final dataframe\n",
        "df_f = df_majors.join(df_positions, on=\"id\", how=\"inner\").join(df_position, on=\"id\", how=\"inner\").join(df_activities, on=\"id\", how=\"inner\").select(\"id\", \"majors\", \"degree_levels\", \"position_levels\", \"companies\", \"followers\", \"connections\")\n",
        "\n",
        "df_final=df_f.withColumn(\"previous_positions\", reverse(expr(\"filter(position_levels, x -> x != position_levels[0])\"))) \\\n",
        "                   .withColumn(\"current_position\", expr(\"position_levels[0]\")) \\\n",
        "                   .select(\"id\", \"majors\", \"degree_levels\", \"previous_positions\", \"current_position\", \"companies\", \"followers\", \"connections\")\\\n",
        "\n",
        "# Show the final dataframe\n",
        "df_final.show(truncate=False)\n",
        "# Stop SparkSession\n",
        "#.withColumn(\"Start date of Job\", convert_to_std_date_udf(df.experiences.positions.start[0]))\\\n",
        "#.drop(*[\"activity\", \"last_generated_at\", \"education\",\"experiences\",\"skills\"])"
      ],
      "metadata": {
        "colab": {
          "base_uri": "https://localhost:8080/"
        },
        "id": "QrbinAnDhfqC",
        "outputId": "85f5a018-f966-4acd-9615-9e2e4e81fa71"
      },
      "execution_count": 62,
      "outputs": [
        {
          "output_type": "stream",
          "name": "stdout",
          "text": [
            "+------------------------------------+------------------------------------------------------------------------------------+--------------------------------------------------------------------------------------------------+--------------------------------------------------------------------------------------------------------------------------------------------------------+----------------+-------------------------------------------------------------------------------------------------------------------------------------------------------------------------------------------------------------------------------------------------------------------------------------------------------------------------------------------------------------------------------------------------+---------+-----------+\n",
            "|id                                  |majors                                                                              |degree_levels                                                                                     |previous_positions                                                                                                                                      |current_position|companies                                                                                                                                                                                                                                                                                                                                                                                        |followers|connections|\n",
            "+------------------------------------+------------------------------------------------------------------------------------+--------------------------------------------------------------------------------------------------+--------------------------------------------------------------------------------------------------------------------------------------------------------+----------------+-------------------------------------------------------------------------------------------------------------------------------------------------------------------------------------------------------------------------------------------------------------------------------------------------------------------------------------------------------------------------------------------------+---------+-----------+\n",
            "|005f363e-98fd-4449-b7c3-4350697d132c|[Computer Science]                                                                  |[Bachelor's degree, Semester Abroad, Fall 2023, High School Diploma]                              |[not_classified, intern, not_classified, intern]                                                                                                        |TA              |[Boston College Computer Science Department, Dell Technologies, Code Ninjas, Opportune Title Agency, LLC, ShopRite]                                                                                                                                                                                                                                                                              |152.0    |150.0      |\n",
            "|00c51fba-1da1-441f-0389-2240f6dfd23d|[Computer Science and Engineering]                                                  |[Bachelor of Science - BS]                                                                        |[intern]                                                                                                                                                |not_classified  |[MIT Computer Science and Artificial Intelligence Laboratory (CSAIL), MIT Environmental Solutions Initiative, Pioneer Natural Resources Company]                                                                                                                                                                                                                                                 |259.0    |259.0      |\n",
            "|021e21d9-3555-cfd1-d85d-e3ef29a4e1bd|[Computer Science]                                                                  |[Bachelor of Science - BS]                                                                        |[tutor, intern, intern, intern, intern]                                                                                                                 |not_classified  |[Meta, Meta, Meta, Bloomberg LP, Infosys, Caltech Y, Kumon North America, Inc., Stony Brook University]                                                                                                                                                                                                                                                                                          |1000.0   |500.0      |\n",
            "|0363e493-5f05-d052-ab3e-59786db47118|[Computer Science]                                                                  |[Bachelor's degree]                                                                               |[entry level]                                                                                                                                           |senior          |[Standard Chartered Bank, Accenture Services Private Limited (Choice Solutions), Infosys BPO]                                                                                                                                                                                                                                                                                                    |10.0     |10.0       |\n",
            "|03fe7b6b-37ad-b5bd-4d7f-9233bff98511|[]                                                                                  |[]                                                                                                |NULL                                                                                                                                                    |NULL            |[]                                                                                                                                                                                                                                                                                                                                                                                               |115.0    |111.0      |\n",
            "|048fc8ad-de54-a111-e124-791fc0e66531|[]                                                                                  |[]                                                                                                |NULL                                                                                                                                                    |NULL            |[]                                                                                                                                                                                                                                                                                                                                                                                               |318.0    |321.0      |\n",
            "|04d8824b-de04-84d5-33e9-fe58b4f248a3|[Computer Engineering, Computer Engineering]                                        |[Bachelor of Science - BS, Bachelor's degree]                                                     |[TA, intern, TA, research assistant]                                                                                                                    |not_classified  |[Boston University, Boston University Dept. of Electrical & Computer Engineering, Boston University Dept. of Electrical & Computer Engineering, Shoptaki, Boston University College of Engineering, Boston University Wheelock College of Education & Human Development]                                                                                                                         |164.0    |161.0      |\n",
            "|06e624f8-6213-6453-1667-dd7562ff9012|[]                                                                                  |[]                                                                                                |NULL                                                                                                                                                    |NULL            |[]                                                                                                                                                                                                                                                                                                                                                                                               |794.0    |500.0      |\n",
            "|09191d92-2b1b-2ac9-c3c7-e033f03cfbe4|[Computer Science]                                                                  |[Bachelor of Science - BS, High School]                                                           |[not_classified]                                                                                                                                        |senior          |[Silicon Labs, Silicon Labs]                                                                                                                                                                                                                                                                                                                                                                     |738.0    |500.0      |\n",
            "|0a33f069-4d20-bcd5-ead9-b1b5cba0f885|[Data Science, Mechanical Engineering]                                              |[Masters of Business Analytics, BS, High School Diploma]                                          |[not_classified, not_classified, intern, intern, ceo/founder/president, TA, not_classified, entry level, not_classified, not_classified, not_classified]|senior          |[End-to-End Analytics, Part of Accenture, Brigham and Women's Hospital, NFL Draft Doctor, ClassHook, NielsenIQ, We'll Get To It Later Podcast with Vince Rogers, Michigan State University, Society of Plastics Engineers - MSU Chapter, WKAR at Michigan State University, University of Miami Rosenstiel School of Marine and Atmospheric Science, MVP Sports Clubs, Egypt Valley Country Club]|524.0    |500.0      |\n",
            "|0a711895-74a8-53f7-eae5-6c555c545227|[Economics]                                                                         |[Bachelor of Arts (B.A.)]                                                                         |[entry level]                                                                                                                                           |not_classified  |[Stanford University, Stanford University, Canal Farm Garden Apartments]                                                                                                                                                                                                                                                                                                                         |236.0    |236.0      |\n",
            "|0c4afd9a-67e6-eb16-e087-148f565f0cf3|[]                                                                                  |[Bachelor of Science - BS]                                                                        |[]                                                                                                                                                      |senior          |[Partnership HealthPlan of California]                                                                                                                                                                                                                                                                                                                                                           |804.0    |500.0      |\n",
            "|0c59ee69-88c8-6d13-3cfa-414c9c97463c|[]                                                                                  |[Doctor of Philosophy - Ph.D., Master of Science - M.S., Bachelor of Science - B.S., Minor Degree]|[intern, not_classified, not_classified]                                                                                                                |senior          |[ASML, Barclays Corporate & Investment Bank, Boston University, Barclays Investment Bank]                                                                                                                                                                                                                                                                                                        |612.0    |500.0      |\n",
            "|0d7c23eb-0211-550c-0d8c-e87ae946fb9e|[Computer Science, Electrical and Computer Engineering]                             |[Master of Science - MS, Dual Bachelor of Science]                                                |[research assistant, intern, intern, intern]                                                                                                            |student         |[Harvard University, AMD, AMD, AMD, Northeastern University]                                                                                                                                                                                                                                                                                                                                     |75.0     |71.0       |\n",
            "|0dea4aa8-94e1-84f3-cb5e-272f306b9266|[Computer Science, Computer Science]                                                |[Graduate Studies, Bachelor of Science]                                                           |[not_classified, not_classified]                                                                                                                        |senior          |[Software Engineering Institute | Carnegie Mellon University, Lockheed Martin, Bell Atlantic Software Systems, National Security Agency]                                                                                                                                                                                                                                                         |282.0    |279.0      |\n",
            "|0f2a3ad4-f092-0dda-ce37-d50340db93d3|[]                                                                                  |[]                                                                                                |NULL                                                                                                                                                    |NULL            |[]                                                                                                                                                                                                                                                                                                                                                                                               |2000.0   |500.0      |\n",
            "|0f957a83-c2b1-453d-b897-6cf19c5d6d55|[Computer Science, Mathematics and Computer Science]                                |[Master of Science - MS, Bachelor of Arts - BA]                                                   |[TA, director/vp, intern, intern, TA, TA]                                                                                                               |not_classified  |[Harvard Medical School, Boston University, Boston University, Boston University, Boston University, STU STREET, Stealth Startup, Boston Children's Hospital, Boston University Entrepreneur's Club, Battery Ventures, Battery Ventures, Boston University, Boston University]                                                                                                                   |2000.0   |500.0      |\n",
            "|105660cd-028d-524e-378f-93426f969195|[Computer Science, Information Systems]                                             |[Master's degree, Bachelor of Science - BS]                                                       |[intern, research assistant, entry level, intern, research assistant]                                                                                   |TA              |[Carnegie Mellon University - School of Computer Science - Language Technologies Institute, Carnegie Mellon University Robotics Institute, Apple, Pittsburgh Supercomputing Center, Carnegie Mellon University, Carnegie Mellon University]                                                                                                                                                      |272.0    |269.0      |\n",
            "|10f4a091-eeb5-80f8-3641-405ae2563c57|[Computer Science]                                                                  |[Bachelor of Science - BS]                                                                        |[research assistant, intern, intern]                                                                                                                    |TA              |[Carnegie Mellon University School of Computer Science, Roblox, General Dynamics, Computational Biology Department (Carnegie Mellon University)]                                                                                                                                                                                                                                                 |383.0    |374.0      |\n",
            "|1150d1a3-0c24-4eb0-27e9-51405f7d5ee8|[Business/Managerial Economics, Applied Economics, Political Science and Government]|[Bachelor of Arts - BA, Master of Science - MS, Minor, High School Diploma]                       |[not_classified, director/vp, intern, not_classified, not_classified, not_classified]                                                                   |student         |[Boston College, New England Revolution, Athletic Performance Training - APT, Pilot House Restaurant, Bar and Marina, Rhode Island General Assembly, YMCA Cape Cod, YMCA Cape Cod]                                                                                                                                                                                                               |210.0    |211.0      |\n",
            "+------------------------------------+------------------------------------------------------------------------------------+--------------------------------------------------------------------------------------------------+--------------------------------------------------------------------------------------------------------------------------------------------------------+----------------+-------------------------------------------------------------------------------------------------------------------------------------------------------------------------------------------------------------------------------------------------------------------------------------------------------------------------------------------------------------------------------------------------+---------+-----------+\n",
            "only showing top 20 rows\n",
            "\n"
          ]
        }
      ]
    },
    {
      "cell_type": "code",
      "source": [
        "from pyspark.sql import SparkSession\n",
        "from pyspark.sql.functions import explode\n",
        "from pyspark.ml.feature import StringIndexer, VectorAssembler\n",
        "from pyspark.ml.classification import DecisionTreeClassifier\n",
        "from pyspark.ml import Pipeline\n",
        "\n",
        "# Initialize Spark session\n",
        "spark = SparkSession.builder \\\n",
        "    .appName(\"Position Prediction\") \\\n",
        "    .getOrCreate()\n",
        "\n",
        "# Assuming your Spark DataFrame is called 'df_final'\n",
        "# Explode the 'majors' array column\n",
        "exploded_df = df_final.select(explode(\"majors\").alias(\"majors\"), \"degree_levels\", \"previous_positions\", \"current_position\", \"followers\", \"connections\") \\\n",
        "    .select(\"majors\", explode(\"degree_levels\").alias(\"degree_levels\"), \"previous_positions\", \"current_position\", \"followers\", \"connections\") \\\n",
        "    .select(\"majors\", \"degree_levels\", explode(\"previous_positions\").alias(\"previous_positions\"), \"current_position\", \"followers\", \"connections\")\n",
        "\n",
        "# Apply the imputer model to the training\n",
        "# Update categorical columns to include the exploded 'major' column\n",
        "categorical_cols = ['majors', 'degree_levels', 'previous_positions','followers','connections']\n",
        "\n",
        "# Apply StringIndexer to each categorical column\n",
        "indexers = [StringIndexer(inputCol=col, outputCol=col+\"_index\").fit(exploded_df) for col in categorical_cols]\n",
        "indexed_df = exploded_df\n",
        "for indexer in indexers:\n",
        "    indexed_df = indexer.transform(indexed_df)\n",
        "\n",
        "# Index the label column 'current_position'\n",
        "label_indexer = StringIndexer(inputCol=\"current_position\", outputCol=\"label\").fit(indexed_df)\n",
        "indexed_df = label_indexer.transform(indexed_df)\n",
        "\n",
        "feature_cols=['majors_index', 'degree_levels_index', 'previous_positions_index','followers','connections']\n",
        "\n",
        "assembler = VectorAssembler(inputCols=feature_cols, outputCol=\"features\", handleInvalid=\"skip\")\n",
        "selected_df = assembler.transform(indexed_df).select(\"features\", \"label\")\n",
        "\n",
        "# Split data into training and testing sets\n",
        "train_df, test_df = selected_df.randomSplit([0.8, 0.2], seed=42)\n",
        "\n",
        "# Check if train_df has any rows\n",
        "if train_df.count() > 0:\n",
        "    # Initialize and train the decision tree classifier with increased maxBins\n",
        "    dt_classifier = DecisionTreeClassifier(labelCol=\"label\", featuresCol=\"features\", maxBins=2000)\n",
        "    dt_model = dt_classifier.fit(train_df)\n",
        "else:\n",
        "    print(\"The training data is empty. Unable to train the model.\")"
      ],
      "metadata": {
        "id": "xUpHibvzrm4B"
      },
      "execution_count": 66,
      "outputs": []
    },
    {
      "cell_type": "code",
      "source": [
        "# Make predictions on the test data\n",
        "predictions = dt_model.transform(test_df)\n",
        "\n",
        "# Evaluate the predictions\n",
        "evaluator = MulticlassClassificationEvaluator(labelCol=\"label\", predictionCol=\"prediction\", metricName=\"accuracy\")\n",
        "accuracy = evaluator.evaluate(predictions)\n",
        "\n",
        "# Convert indexed labels back to original labels for actual labels\n",
        "label_converter_actual = IndexToString(inputCol=\"label\", outputCol=\"actual_position\", labels=label_indexer.labels)\n",
        "predictions_with_actual = label_converter_actual.transform(predictions)\n",
        "\n",
        "# Convert predicted labels back to original labels\n",
        "label_converter_predicted = IndexToString(inputCol=\"prediction\", outputCol=\"predicted_position\", labels=label_indexer.labels)\n",
        "predictions_with_labels = label_converter_predicted.transform(predictions_with_actual)\n",
        "\n",
        "# Show actual and predicted labels along with accuracy\n",
        "print(\"Accuracy:\", accuracy)"
      ],
      "metadata": {
        "colab": {
          "base_uri": "https://localhost:8080/"
        },
        "id": "XXYyYGqcQB6_",
        "outputId": "262cdc8f-1afd-4feb-c633-67a6f6ea3e27"
      },
      "execution_count": 103,
      "outputs": [
        {
          "output_type": "stream",
          "name": "stdout",
          "text": [
            "Accuracy: 0.6858974358974359\n"
          ]
        }
      ]
    },
    {
      "cell_type": "code",
      "source": [
        "from pyspark.sql import Row\n",
        "\n",
        "# Create a test DataFrame with the provided input\n",
        "test_input = [\n",
        "    Row(majors=[\"computer science\", \"applied data analytics\"], degree_levels=[\"B.Tech\", \"MS\"], previous_positions=[\"TA\",\"Intern\",\"Junior Developer\"], followers=280, connections=500)\n",
        "]\n",
        "\n",
        "test_input_df = spark.createDataFrame(test_input)\n",
        "exploded_df = test_input_df.select(explode(\"majors\").alias(\"majors\"), \"degree_levels\", \"previous_positions\", \"followers\", \"connections\") \\\n",
        "    .select(\"majors\", explode(\"degree_levels\").alias(\"degree_levels\"), \"previous_positions\", \"followers\", \"connections\") \\\n",
        "    .select(\"majors\", \"degree_levels\", explode(\"previous_positions\").alias(\"previous_positions\"), \"followers\", \"connections\")\n",
        "\n",
        "# Apply the imputer model to the training\n",
        "# Update categorical columns to include the exploded 'major' column\n",
        "categorical_cols = ['majors', 'degree_levels', 'previous_positions','followers','connections']\n",
        "\n",
        "# Apply StringIndexer to each categorical column\n",
        "indexers = [StringIndexer(inputCol=col, outputCol=col+\"_index\").fit(exploded_df) for col in categorical_cols]\n",
        "indexed_df = exploded_df\n",
        "for indexer in indexers:\n",
        "    indexed_df = indexer.transform(indexed_df)\n",
        "\n",
        "\n",
        "feature_cols=['majors_index', 'degree_levels_index', 'previous_positions_index','followers','connections']\n",
        "\n",
        "assembler = VectorAssembler(inputCols=feature_cols, outputCol=\"features\", handleInvalid=\"skip\")\n",
        "selected_df = assembler.transform(indexed_df).select(\"features\")\n",
        "\n",
        "predictions = dt_model.transform(selected_df)\n",
        "\n",
        "from pyspark.ml.feature import IndexToString\n",
        "\n",
        "# Reverse index the predicted labels to get the actual current_position names\n",
        "label_converter = IndexToString(inputCol=\"prediction\", outputCol=\"predicted_position\", labels=label_indexer.labels)\n",
        "predictions_with_names = label_converter.transform(predictions)\n",
        "\n",
        "# Show the prediction with current_position names\n",
        "from pyspark.sql.functions import size\n",
        "\n",
        "# Initialize a dictionary to store the maximum number of elements in each array column\n",
        "max_elements_per_column = {}\n",
        "\n",
        "# Iterate over the columns\n",
        "for column in test_input_df.columns:\n",
        "    if isinstance(test_input_df.schema[column].dataType, ArrayType):\n",
        "        # Find the maximum number of elements in the current array column\n",
        "        max_elements = test_input_df.selectExpr(f\"max(size({column})) as max_elements\").collect()[0][\"max_elements\"]\n",
        "        max_elements_per_column[column] = max_elements\n",
        "\n",
        "# Print the maximum number of elements in each array column\n",
        "max_index=0\n",
        "for column, max_elements in max_elements_per_column.items():\n",
        "  if max_index<=max_elements:\n",
        "    max_index=max_elements\n",
        "\n",
        "# Convert the predicted_position column to a list\n",
        "predicted_positions_list = predictions_with_names.select(\"predicted_position\").rdd.flatMap(lambda x: x).collect()\n",
        "\n",
        "# Print the predicted position at the specified index\n",
        "if max_index - 1 < len(predicted_positions_list):\n",
        "    predicted_position_at_index = predicted_positions_list[max_index - 1]\n",
        "    print(f\"The predicted position is: {predicted_position_at_index}\")\n",
        "else:\n",
        "    print(f\"There is no predicted position.\")\n"
      ],
      "metadata": {
        "colab": {
          "base_uri": "https://localhost:8080/"
        },
        "id": "5zPg8G8An3RL",
        "outputId": "b75eb3c5-71eb-457c-e592-2b345f762734"
      },
      "execution_count": 102,
      "outputs": [
        {
          "output_type": "stream",
          "name": "stdout",
          "text": [
            "The predicted position is: senior\n"
          ]
        }
      ]
    }
  ]
}