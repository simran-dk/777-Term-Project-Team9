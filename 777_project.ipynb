{
  "nbformat": 4,
  "nbformat_minor": 0,
  "metadata": {
    "colab": {
      "provenance": [],
      "authorship_tag": "ABX9TyMkEuRzz1llc6KpCWwlZzCd",
      "include_colab_link": true
    },
    "kernelspec": {
      "name": "python3",
      "display_name": "Python 3"
    },
    "language_info": {
      "name": "python"
    }
  },
  "cells": [
    {
      "cell_type": "markdown",
      "metadata": {
        "id": "view-in-github",
        "colab_type": "text"
      },
      "source": [
        "<a href=\"https://colab.research.google.com/github/simran-dk/777-Term-Project-Team9/blob/main/777_project.ipynb\" target=\"_parent\"><img src=\"https://colab.research.google.com/assets/colab-badge.svg\" alt=\"Open In Colab\"/></a>"
      ]
    },
    {
      "cell_type": "code",
      "source": [
        "!pip install pyspark"
      ],
      "metadata": {
        "id": "HlxiVW3GWvcS",
        "colab": {
          "base_uri": "https://localhost:8080/"
        },
        "outputId": "80f4b5a8-c381-464f-a845-7ebf1e806d7c"
      },
      "execution_count": 1,
      "outputs": [
        {
          "output_type": "stream",
          "name": "stdout",
          "text": [
            "Collecting pyspark\n",
            "  Downloading pyspark-3.5.1.tar.gz (317.0 MB)\n",
            "\u001b[2K     \u001b[90m━━━━━━━━━━━━━━━━━━━━━━━━━━━━━━━━━━━━━━━━\u001b[0m \u001b[32m317.0/317.0 MB\u001b[0m \u001b[31m2.2 MB/s\u001b[0m eta \u001b[36m0:00:00\u001b[0m\n",
            "\u001b[?25h  Preparing metadata (setup.py) ... \u001b[?25l\u001b[?25hdone\n",
            "Requirement already satisfied: py4j==0.10.9.7 in /usr/local/lib/python3.10/dist-packages (from pyspark) (0.10.9.7)\n",
            "Building wheels for collected packages: pyspark\n",
            "  Building wheel for pyspark (setup.py) ... \u001b[?25l\u001b[?25hdone\n",
            "  Created wheel for pyspark: filename=pyspark-3.5.1-py2.py3-none-any.whl size=317488491 sha256=fe9cac3571b22a77a30c5d7ecf1e7f61a9cf2ad5f1c3346bed06a7cd90a92a4f\n",
            "  Stored in directory: /root/.cache/pip/wheels/80/1d/60/2c256ed38dddce2fdd93be545214a63e02fbd8d74fb0b7f3a6\n",
            "Successfully built pyspark\n",
            "Installing collected packages: pyspark\n",
            "Successfully installed pyspark-3.5.1\n"
          ]
        }
      ]
    },
    {
      "cell_type": "code",
      "source": [
        "# Mount data from drive\n",
        "from google.colab import drive\n",
        "drive.mount('/content/drive')\n"
      ],
      "metadata": {
        "colab": {
          "base_uri": "https://localhost:8080/"
        },
        "id": "SmG0LV6HhdXb",
        "outputId": "e0cc7e31-6581-45fa-d900-44ae3e014933"
      },
      "execution_count": 2,
      "outputs": [
        {
          "output_type": "stream",
          "name": "stdout",
          "text": [
            "Mounted at /content/drive\n"
          ]
        }
      ]
    },
    {
      "cell_type": "code",
      "source": [
        "from pyspark.sql import SparkSession\n",
        "from pyspark.sql.functions import col, explode, expr, when, udf, explode_outer, collect_list\n",
        "from pyspark.sql.types import IntegerType, StringType, StructType, StructField\n",
        "from datetime import datetime\n",
        "\n",
        "# Initialize SparkSession\n",
        "spark = SparkSession.builder \\\n",
        "    .appName(\"Process JSON Files\") \\\n",
        "    .getOrCreate()\n",
        "\n",
        "# Read all JSON files from a directory\n",
        "json_directory_path = \"/content/drive/My Drive/raw_data\"\n",
        "df = spark.read.option(\"multiline\", \"true\").json(json_directory_path)\n",
        "\n",
        "def clean_major(degree_list):\n",
        "    if not degree_list:\n",
        "        return None\n",
        "    major = degree_list.pop(-1)\n",
        "    if any(char.isnumeric() for char in major):\n",
        "        return None\n",
        "    return major\n",
        "\n",
        "def convert_to_std_date(date_str):\n",
        "    if date_str is None:\n",
        "        return None\n",
        "\n",
        "    try:\n",
        "        date_obj = datetime.strptime(date_str, \"%b %Y\")\n",
        "    except ValueError:\n",
        "        try:\n",
        "            # Handle the case where only the year is provided\n",
        "            date_obj = datetime.strptime(date_str, \"%Y\")\n",
        "        except ValueError:\n",
        "            return None\n",
        "\n",
        "    standard_date = date_obj.strftime(\"%Y-%m-%d\")\n",
        "    return standard_date\n",
        "\n",
        "\n",
        "def convert_to_number(s):\n",
        "    if s is None:\n",
        "        return None\n",
        "    try:\n",
        "        s = s.strip().replace(',', '')\n",
        "        if 'K' in s:\n",
        "            s = s.replace('K', '')\n",
        "            return int(float(s) * 1000)\n",
        "        elif '+' in s:\n",
        "            s = s.replace('+', '')\n",
        "            return int(s)\n",
        "    except ValueError:\n",
        "        return None\n",
        "    return int(s)\n",
        "\n",
        "def clean_degree_level(degree: str) -> str:\n",
        "    if not degree:\n",
        "        return None\n",
        "    degree = degree.strip().lower()\n",
        "    if any([d in degree for d in [\"master of science\", \"master\", \"ms\", \"m.s\", \"m.a.\", \"ma\"]]):\n",
        "        return \"master\"\n",
        "    elif any([d in degree for d in ['doctor', 'phd']]):\n",
        "        return \"PhD\"\n",
        "    elif any([d in degree for d in ['bs', 'b.s', 'bachelor', 'b.a', 'ba']]):\n",
        "        return \"bachelor\"\n",
        "    elif any([d in degree for d in [\"associate's\", \"associate\"]]):\n",
        "      return \"associate\"\n",
        "    return degree\n",
        "\n",
        "\n",
        "clean_major_udf = udf(clean_major)\n",
        "clean_degree_level_udf = udf(clean_degree_level, StringType())\n",
        "convert_to_std_date_udf = udf(convert_to_std_date, StringType())\n",
        "convert_to_number_udf = udf(convert_to_number, IntegerType())\n",
        "\n",
        "df_degree_info = df.withColumn(\"degree_info\", explode(df.education.degree))\n",
        "df_majors = df_degree_info \\\n",
        "    .withColumn(\"degree_name\", col(\"degree_info\").getItem(0)[0]) \\\n",
        "    .withColumn(\"major\", col(\"degree_info\").getItem(0)[1]) \\\n",
        "    .groupBy(\"id\") \\\n",
        "    .agg(collect_list(\"major\").alias(\"majors\"), collect_list(\"degree_name\").alias(\"degree_levels\"))\n",
        "\n",
        "\n",
        "# Extract job titles and company names\n",
        "df_positions = df.withColumn(\"experience_info\", explode(col(\"experiences\"))) \\\n",
        "        .withColumn(\"positions\", explode(col(\"experience_info.positions\"))) \\\n",
        "        .withColumn(\"job_title\", col(\"positions.job_title\")) \\\n",
        "        .withColumn(\"company_name\", col(\"experience_info.company_name\")) \\\n",
        "        .groupBy(\"id\") \\\n",
        "        .agg(collect_list(\"job_title\").alias(\"positions\"), collect_list(\"company_name\").alias(\"companies\"))\n",
        "\n",
        "df_activities=df.withColumn(\"followers\", convert_to_number_udf(col(\"activity.followers\"))) \\\n",
        "               .withColumn(\"connections\", convert_to_number_udf(col(\"activity.connections\")))\n",
        "\n",
        "# Join the major, degree level, positions, and company information\n",
        "df_1 = df_majors.join(df_positions, on=\"id\", how=\"inner\") \\\n",
        "               .select(\"id\", \"majors\", \"degree_levels\", \"positions\", \"companies\") \\\n",
        "\n",
        "df_final = df_1.join(df_activities, on=\"id\", how=\"inner\") \\\n",
        "               .select(\"id\", \"majors\", \"degree_levels\", \"positions\", \"companies\",\"followers\",\"connections\")\n",
        "\n",
        "df_final.show(truncate=False)\n",
        "# Stop SparkSession\n",
        "spark.stop()\n",
        "#.withColumn(\"Start date of Job\", convert_to_std_date_udf(df.experiences.positions.start[0]))\\\n",
        "#.drop(*[\"activity\", \"last_generated_at\", \"education\",\"experiences\",\"skills\"])"
      ],
      "metadata": {
        "colab": {
          "base_uri": "https://localhost:8080/"
        },
        "id": "QrbinAnDhfqC",
        "outputId": "9f38ac0a-0859-4068-d9fb-43e1da3941b0"
      },
      "execution_count": 3,
      "outputs": [
        {
          "output_type": "stream",
          "name": "stdout",
          "text": [
            "+------------------------------------+------------------------------------------------------------------------------------+--------------------------------------------------------------------------------------------------+---------------------------------------------------------------------------------------------------------------------------------------------------------------------------------------------------------------------------------------------------------------------------------------------------------------------------------------------------------------------------------------------------------------------------------------------------------------------------------------------------------------------------------------------------------------+-----------------------------------------------------------------------------------------------------------------------------------------------------------------------------------------------------------------------------------------------------------------------------------------------------------------------------------------------------------------------------------------------------------------------------------------------------------------------------------------------------------------------------------------------------------------------------------------------------------+---------+-----------+\n",
            "|id                                  |majors                                                                              |degree_levels                                                                                     |positions                                                                                                                                                                                                                                                                                                                                                                                                                                                                                                                                                      |companies                                                                                                                                                                                                                                                                                                                                                                                                                                                                                                                                                                                                  |followers|connections|\n",
            "+------------------------------------+------------------------------------------------------------------------------------+--------------------------------------------------------------------------------------------------+---------------------------------------------------------------------------------------------------------------------------------------------------------------------------------------------------------------------------------------------------------------------------------------------------------------------------------------------------------------------------------------------------------------------------------------------------------------------------------------------------------------------------------------------------------------+-----------------------------------------------------------------------------------------------------------------------------------------------------------------------------------------------------------------------------------------------------------------------------------------------------------------------------------------------------------------------------------------------------------------------------------------------------------------------------------------------------------------------------------------------------------------------------------------------------------+---------+-----------+\n",
            "|005f363e-98fd-4449-b7c3-4350697d132c|[Computer Science]                                                                  |[Bachelor's degree, Semester Abroad, Fall 2023, High School Diploma]                              |[Teaching Assistant, Software Engineer Intern, Summer Camp Instructor, Summer Intern, Cashier]                                                                                                                                                                                                                                                                                                                                                                                                                                                                 |[Boston College Computer Science Department, Dell Technologies, Code Ninjas, Opportune Title Agency, LLC, ShopRite]                                                                                                                                                                                                                                                                                                                                                                                                                                                                                        |152      |150        |\n",
            "|00c51fba-1da1-441f-0389-2240f6dfd23d|[Computer Science and Engineering]                                                  |[Bachelor of Science - BS]                                                                        |[Kellis Lab - Software Engineer, Data Science Researcher, Engineering Intern]                                                                                                                                                                                                                                                                                                                                                                                                                                                                                  |[MIT Computer Science and Artificial Intelligence Laboratory (CSAIL), MIT Environmental Solutions Initiative, Pioneer Natural Resources Company]                                                                                                                                                                                                                                                                                                                                                                                                                                                           |259      |259        |\n",
            "|021e21d9-3555-cfd1-d85d-e3ef29a4e1bd|[Computer Science]                                                                  |[Bachelor of Science - BS]                                                                        |[Software Engineer, Software Engineer Intern, Software Engineer Intern, Software Engineer Intern, InStep Software Engineer Intern, Website Application Developer, Mathematics and English Tutor, Genetics Researcher]                                                                                                                                                                                                                                                                                                                                          |[Meta, Meta, Meta, Bloomberg LP, Infosys, Caltech Y, Kumon North America, Inc., Stony Brook University]                                                                                                                                                                                                                                                                                                                                                                                                                                                                                                    |1000     |500        |\n",
            "|0363e493-5f05-d052-ab3e-59786db47118|[Computer Science]                                                                  |[Bachelor's degree]                                                                               |[Senior Analyst, Transaction Processing Associate, Senior Process Executive]                                                                                                                                                                                                                                                                                                                                                                                                                                                                                   |[Standard Chartered Bank, Accenture Services Private Limited (Choice Solutions), Infosys BPO]                                                                                                                                                                                                                                                                                                                                                                                                                                                                                                              |10       |10         |\n",
            "|04d8824b-de04-84d5-33e9-fe58b4f248a3|[Computer Engineering, Computer Engineering]                                        |[Bachelor of Science - BS, Bachelor's degree]                                                     |[Data Scientist, Research Assistant, Course Assistant, Software Engineer Intern, Teaching Assistant, Library Assistant]                                                                                                                                                                                                                                                                                                                                                                                                                                        |[Boston University, Boston University Dept. of Electrical & Computer Engineering, Boston University Dept. of Electrical & Computer Engineering, Shoptaki, Boston University College of Engineering, Boston University Wheelock College of Education & Human Development]                                                                                                                                                                                                                                                                                                                                   |164      |161        |\n",
            "|09191d92-2b1b-2ac9-c3c7-e033f03cfbe4|[Computer Science]                                                                  |[Bachelor of Science - BS, High School]                                                           |[Senior Software Development Engineer, Software Engineer]                                                                                                                                                                                                                                                                                                                                                                                                                                                                                                      |[Silicon Labs, Silicon Labs]                                                                                                                                                                                                                                                                                                                                                                                                                                                                                                                                                                               |738      |500        |\n",
            "|0a33f069-4d20-bcd5-ead9-b1b5cba0f885|[Data Science, Mechanical Engineering]                                              |[Masters of Business Analytics, BS, High School Diploma]                                          |[Senior Data Science Analyst, MIT Sloan | Capstone, NFL Draft Analyst, MIT Sloan | Analytics Lab Project, Operations Associate - Emerging Leaders Program, Host, Engineering Teaching Assistant, President, All Things Considered | News Intern, Research and Development Engineering Intern, Water Slide Attendant, Grounds Team Member]                                                                                                                                                                                                                      |[End-to-End Analytics, Part of Accenture, Brigham and Women's Hospital, NFL Draft Doctor, ClassHook, NielsenIQ, We'll Get To It Later Podcast with Vince Rogers, Michigan State University, Society of Plastics Engineers - MSU Chapter, WKAR at Michigan State University, University of Miami Rosenstiel School of Marine and Atmospheric Science, MVP Sports Clubs, Egypt Valley Country Club]                                                                                                                                                                                                          |524      |500        |\n",
            "|0a711895-74a8-53f7-eae5-6c555c545227|[Economics]                                                                         |[Bachelor of Arts (B.A.)]                                                                         |[IT System Analyst, IT Service Integration Associate, Operations and Accounting]                                                                                                                                                                                                                                                                                                                                                                                                                                                                               |[Stanford University, Stanford University, Canal Farm Garden Apartments]                                                                                                                                                                                                                                                                                                                                                                                                                                                                                                                                   |236      |236        |\n",
            "|0c4afd9a-67e6-eb16-e087-148f565f0cf3|[]                                                                                  |[Bachelor of Science - BS]                                                                        |[Senior Data Analyst]                                                                                                                                                                                                                                                                                                                                                                                                                                                                                                                                          |[Partnership HealthPlan of California]                                                                                                                                                                                                                                                                                                                                                                                                                                                                                                                                                                     |804      |500        |\n",
            "|0c59ee69-88c8-6d13-3cfa-414c9c97463c|[]                                                                                  |[Doctor of Philosophy - Ph.D., Master of Science - M.S., Bachelor of Science - B.S., Minor Degree]|[Senior Software Engineer, Analyst, Doctoral Researcher, Summer Analyst Intern]                                                                                                                                                                                                                                                                                                                                                                                                                                                                                |[ASML, Barclays Corporate & Investment Bank, Boston University, Barclays Investment Bank]                                                                                                                                                                                                                                                                                                                                                                                                                                                                                                                  |612      |500        |\n",
            "|0d7c23eb-0211-550c-0d8c-e87ae946fb9e|[Computer Science, Electrical and Computer Engineering]                             |[Master of Science - MS, Dual Bachelor of Science]                                                |[Graduate Student, Intern, Intern, Intern, CenSSIS GPU Research Assistant]                                                                                                                                                                                                                                                                                                                                                                                                                                                                                     |[Harvard University, AMD, AMD, AMD, Northeastern University]                                                                                                                                                                                                                                                                                                                                                                                                                                                                                                                                               |75       |71         |\n",
            "|0dea4aa8-94e1-84f3-cb5e-272f306b9266|[Computer Science, Computer Science]                                                |[Graduate Studies, Bachelor of Science]                                                           |[Senior Member of the Technical Staff, Program Manager, Senior Software Engineer, Software Engineer]                                                                                                                                                                                                                                                                                                                                                                                                                                                           |[Software Engineering Institute | Carnegie Mellon University, Lockheed Martin, Bell Atlantic Software Systems, National Security Agency]                                                                                                                                                                                                                                                                                                                                                                                                                                                                   |282      |279        |\n",
            "|0f957a83-c2b1-453d-b897-6cf19c5d6d55|[Computer Science, Mathematics and Computer Science]                                |[Master of Science - MS, Bachelor of Arts - BA]                                                   |[Incoming Backend Engineer, Teaching Assistant for CS 411: Software Engineering, Treasurer for BUILDS - ACM BU Chapter, Course Assistant for CS131: Discrete Mathematics, Distributed Systems Researcher, Co Host, Backend/Systems Design Intern, Software Engineer Intern, Vice President for External Affairs and Technology, Analyst Diligence Extern, Analyst Sourcing Extern, Learning Assistant for EK301: Engineering Mechanics, Undergraduate Research Fellow - Ziegler Group]                                                                         |[Harvard Medical School, Boston University, Boston University, Boston University, Boston University, STU STREET, Stealth Startup, Boston Children's Hospital, Boston University Entrepreneur's Club, Battery Ventures, Battery Ventures, Boston University, Boston University]                                                                                                                                                                                                                                                                                                                             |2000     |500        |\n",
            "|105660cd-028d-524e-378f-93426f969195|[Computer Science, Information Systems]                                             |[Master's degree, Bachelor of Science - BS]                                                       |[Teaching Assistant (11-868 LLM Systems), Graduate Research Assistant, Embedded Software Engineering Intern, Junior C Developer, Undergraduate Research Assistant, Summer Intern]                                                                                                                                                                                                                                                                                                                                                                              |[Carnegie Mellon University - School of Computer Science - Language Technologies Institute, Carnegie Mellon University Robotics Institute, Apple, Pittsburgh Supercomputing Center, Carnegie Mellon University, Carnegie Mellon University]                                                                                                                                                                                                                                                                                                                                                                |272      |269        |\n",
            "|10f4a091-eeb5-80f8-3641-405ae2563c57|[Computer Science]                                                                  |[Bachelor of Science - BS]                                                                        |[Principles of Functional Programming Teaching Assistant, SWE Intern, SWE Intern, Undergraduate Research Assistant]                                                                                                                                                                                                                                                                                                                                                                                                                                            |[Carnegie Mellon University School of Computer Science, Roblox, General Dynamics, Computational Biology Department (Carnegie Mellon University)]                                                                                                                                                                                                                                                                                                                                                                                                                                                           |383      |374        |\n",
            "|1150d1a3-0c24-4eb0-27e9-51405f7d5ee8|[Business/Managerial Economics, Applied Economics, Political Science and Government]|[Bachelor of Arts - BA, Master of Science - MS, Minor, High School Diploma]                       |[Graduate Student / Data Analyst, Inside Sales Representative, Performance Coach, Bar Staff / Server, Legislative Intern, Program Director - Sports, Camp Counselor]                                                                                                                                                                                                                                                                                                                                                                                           |[Boston College, New England Revolution, Athletic Performance Training - APT, Pilot House Restaurant, Bar and Marina, Rhode Island General Assembly, YMCA Cape Cod, YMCA Cape Cod]                                                                                                                                                                                                                                                                                                                                                                                                                         |210      |211        |\n",
            "|117bb7d2-dfbc-f383-6496-86ad8798e321|[Mathematics, Civil Engineering]                                                    |[Doctor of Philosophy (PhD), Doctor of Philosophy (PhD)]                                          |[Teaching Professor of Computing and Mathematical Sciences, Assistant Teaching Professor of Computing and Mathematical Sciences, Special Lecturer in Computing and Mathematical Sciences, Scientific Advisory Board Memeber, Consultant, Postdoctoral Research Associate, Lecturer in Uncertainty and Risk in Complex Systems and Networks, Assistant Professor of Mathematics (NTT), Postdoctoral Scholar, Postdoctoral Fellow]                                                                                                                               |[Caltech, Caltech, Caltech, Virtualitics, Inc., Virtualitics, Inc., Northeastern University, University of Liverpool, University of Southern California, California Institute of Technology, HKUST]                                                                                                                                                                                                                                                                                                                                                                                                        |921      |500        |\n",
            "|11fbc561-7fff-09f3-aaca-95cd56785395|[Computer Science]                                                                  |[Bachelor of Science - BS]                                                                        |[Software Engineer, Head Teaching Assistant, Software Engineer Intern, Software Engineer Intern, Summer Undergraduate Research Fellow]                                                                                                                                                                                                                                                                                                                                                                                                                         |[Pure Storage, Caltech, Green Hills Software, SprintRay Inc., Caltech]                                                                                                                                                                                                                                                                                                                                                                                                                                                                                                                                     |281      |279        |\n",
            "|12f961cb-1034-77d9-e2ca-d0e3ac0ef523|[]                                                                                  |[Bachelor's degree: Economics & Computer Science]                                                 |[Section Leader, Diversity Committee, Marketing & Design Director | IBC Committee, UX Designer | UnlockEd Labs, Advocacy Report Project Team, Member, Chief Design Director, Finance Associate | Business Board, Treasurer | AADT Board, First-Year Representative | AADT Board, Director of Videography | Corporate Marketing, Finance Associate | Executive Board, Teacher Assistant, Advanced Honors Research Program, Youth President, Digital Korean Textbook Research, Summer Reading Assistant (Paid Job), Teen Advisory Board, Summer Reading Research]|[Harvard Undergraduate Women In Business (HUWIB), Harvard Undergraduate Women In Business (HUWIB), Harvard Undergraduate Women In Business (HUWIB), HCS Tech for Social Good, Harvard Women in Computer Science, Harvard Financial Analysts Club, Harvard International Review, Harvard International Review, Asian American Dance Troupe, Asian American Dance Troupe, Harvard Student Agencies, HackHarvard, Hasang Korean School, Glenbrook North High School, Chicago Korean Dance Company, Korea Overseas Foundation, Northbrook Public Library, Northbrook Public Library, Northbrook Public Library]|650      |500        |\n",
            "|1321f303-756e-b93e-f80e-2f5dfcd50610|[Computer Science]                                                                  |[Bachelor of Arts - BA]                                                                           |[Software Engineer, Software Engineer Intern, Technical Lead, Software Engineer, Product Management Intern, Software Engineering Fellow, Software Engineer Intern, Engineer Intern]                                                                                                                                                                                                                                                                                                                                                                            |[Qualcomm, Qualcomm, Hack4Impact, Hack4Impact, Biolinq, BU Spark!, auxi, Elemental Machines]                                                                                                                                                                                                                                                                                                                                                                                                                                                                                                               |522      |500        |\n",
            "+------------------------------------+------------------------------------------------------------------------------------+--------------------------------------------------------------------------------------------------+---------------------------------------------------------------------------------------------------------------------------------------------------------------------------------------------------------------------------------------------------------------------------------------------------------------------------------------------------------------------------------------------------------------------------------------------------------------------------------------------------------------------------------------------------------------+-----------------------------------------------------------------------------------------------------------------------------------------------------------------------------------------------------------------------------------------------------------------------------------------------------------------------------------------------------------------------------------------------------------------------------------------------------------------------------------------------------------------------------------------------------------------------------------------------------------+---------+-----------+\n",
            "only showing top 20 rows\n",
            "\n"
          ]
        }
      ]
    }
  ]
}